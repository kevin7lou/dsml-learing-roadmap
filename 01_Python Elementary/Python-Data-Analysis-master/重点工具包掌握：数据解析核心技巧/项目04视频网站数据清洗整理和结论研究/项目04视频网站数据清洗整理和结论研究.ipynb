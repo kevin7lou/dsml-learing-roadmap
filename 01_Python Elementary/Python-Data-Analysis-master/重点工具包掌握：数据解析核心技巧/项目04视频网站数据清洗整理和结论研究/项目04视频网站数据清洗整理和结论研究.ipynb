{
 "cells": [
  {
   "cell_type": "code",
   "execution_count": null,
   "metadata": {
    "collapsed": true
   },
   "outputs": [],
   "source": [
    "'''\n",
    "【项目04】  视频网站数据清洗整理和结论研究\n",
    "\n",
    "作业要求：\n",
    "1、数据清洗 - 去除空值\n",
    "要求：创建函数\n",
    "提示：fillna方法填充缺失数据，注意inplace参数\n",
    "\n",
    "2、数据清洗 - 时间标签转化\n",
    "要求：\n",
    "① 将时间字段改为时间标签\n",
    "② 创建函数\n",
    "提示：\n",
    "需要将中文日期转化为非中文日期，例如 2016年5月24日 → 2016.5.24\n",
    "\n",
    "3、问题1 分析出不同导演电影的好评率，并筛选出TOP20\n",
    "要求：\n",
    "① 计算统计出不同导演的好评率，不要求创建函数\n",
    "② 通过多系列柱状图，做图表可视化\n",
    "提示：\n",
    "① 好评率 = 好评数 / 评分人数\n",
    "② 可自己设定图表风格\n",
    "\n",
    "4、问题2 统计分析2001-2016年每年评影人数总量\n",
    "要求：\n",
    "① 计算统计出2001-2016年每年评影人数总量，不要求创建函数\n",
    "② 通过面积图，做图表可视化，分析每年人数总量变化规律\n",
    "③ 验证是否有异常值（极度异常）\n",
    "④ 创建函数分析出数据外限最大最小值）\n",
    "⑤ 筛选查看异常值 → 是否异常值就是每年的热门电影？\n",
    "提示：\n",
    "① 通过箱型图验证异常值情况\n",
    "② 通过quantile(q=0.5)方法，得到四分位数\n",
    "③ IQR=Q3-Q1\n",
    "④ 外限：最大值区间Q3+3IQR,最小值区间Q1-3IQR （IQR=Q3-Q1）\n",
    "⑤ 可自己设定图表风格\n",
    "\n",
    "'''"
   ]
  },
  {
   "cell_type": "code",
   "execution_count": null,
   "metadata": {
    "collapsed": true
   },
   "outputs": [],
   "source": []
  }
 ],
 "metadata": {
  "anaconda-cloud": {},
  "kernelspec": {
   "display_name": "Python [default]",
   "language": "python",
   "name": "python3"
  },
  "language_info": {
   "codemirror_mode": {
    "name": "ipython",
    "version": 3
   },
   "file_extension": ".py",
   "mimetype": "text/x-python",
   "name": "python",
   "nbconvert_exporter": "python",
   "pygments_lexer": "ipython3",
   "version": "3.5.2"
  }
 },
 "nbformat": 4,
 "nbformat_minor": 1
}
